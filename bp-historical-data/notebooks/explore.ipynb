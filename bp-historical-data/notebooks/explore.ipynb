{
 "cells": [
  {
   "cell_type": "markdown",
   "id": "located-ozone",
   "metadata": {},
   "source": [
    "# Exploring the BP Historical Dataset\n",
    "\n",
    "## Our Business Context\n",
    "\n",
    "To guide our analysis, we will focus on the following question:\n",
    "\n",
    "*What is the historical wind production in New Zealand?*\n",
    "\n",
    "This question is our **business context** - it will guide our work with this dataset.\n",
    "\n",
    "For this project we are using the BP Historical Dataset - a dataset published each year by BP as part of their [Statistical Review of World Energy](https://www.bp.com/en/global/corporate/energy-economics/statistical-review-of-world-energy.html)."
   ]
  },
  {
   "cell_type": "markdown",
   "id": "65563917-bb95-4a1b-86bd-2b603446ba0a",
   "metadata": {},
   "source": [
    "## Install Python Dependencies"
   ]
  },
  {
   "cell_type": "code",
   "execution_count": 1,
   "id": "7b69b76e-665a-417d-a740-034bf1bec5f6",
   "metadata": {},
   "outputs": [
    {
     "name": "stdout",
     "output_type": "stream",
     "text": [
      "\n",
      "\u001b[1m[\u001b[0m\u001b[34;49mnotice\u001b[0m\u001b[1;39;49m]\u001b[0m\u001b[39;49m A new release of pip available: \u001b[0m\u001b[31;49m22.2.1\u001b[0m\u001b[39;49m -> \u001b[0m\u001b[32;49m23.0.1\u001b[0m\n",
      "\u001b[1m[\u001b[0m\u001b[34;49mnotice\u001b[0m\u001b[1;39;49m]\u001b[0m\u001b[39;49m To update, run: \u001b[0m\u001b[32;49mpython3.10 -m pip install --upgrade pip\u001b[0m\n"
     ]
    }
   ],
   "source": [
    "!pip install -r ../requirements.txt -q"
   ]
  },
  {
   "cell_type": "markdown",
   "id": "60f38e1e",
   "metadata": {},
   "source": [
    "## Load the BP Historical Dataset with Pandas\n",
    "\n",
    "Let's start by using `pandas` to read our dataset from a URL into a `pd.DataFrame` called `raw`:"
   ]
  },
  {
   "cell_type": "code",
   "execution_count": 2,
   "id": "automotive-lotus",
   "metadata": {},
   "outputs": [],
   "source": [
    "import pandas as pd\n",
    "\n",
    "raw = pd.read_csv(\"https://raw.githubusercontent.com/ADGEfficiency/analyze-bp-historical-data/main/data/bp-stats-review-2022-consolidated-dataset-narrow-format.csv\")"
   ]
  },
  {
   "cell_type": "markdown",
   "id": "defensive-contractor",
   "metadata": {},
   "source": [
    "### Always Save the Raw Data\n",
    "\n",
    "After reading our raw data, we should immediately save it to a file on the local hard disk. This has a few advantages:\n",
    "\n",
    "1. it's quicker to load if we want to reload the raw data,\n",
    "2. we have a copy in case we lose access to the original raw data through the URL."
   ]
  },
  {
   "cell_type": "code",
   "execution_count": null,
   "id": "0fb6a2d6",
   "metadata": {},
   "outputs": [],
   "source": [
    "import pathlib\n",
    "import pandas as pd\n",
    "\n",
    "raw = pd.read_csv(\"https://raw.githubusercontent.com/ADGEfficiency/analyze-bp-historical-data/main/data/bp-stats-review-2022-consolidated-dataset-narrow-format.csv\")\n",
    "\n",
    "#  create a `pathlib.Path` for `./data`\n",
    "cache = pathlib.Path(\"./data\")\n",
    "\n",
    "#  create the folder on disk\n",
    "cache.mkdir(exist_ok=True)\n",
    "\n",
    "#  write the raw data to a CSV file `raw.csv` in this folder\n",
    "raw.to_csv(cache / \"raw.csv\")"
   ]
  },
  {
   "cell_type": "markdown",
   "id": "7f2d3e6b",
   "metadata": {},
   "source": [
    "This dataset is reasonably small (~10 MB as `.csv`) - for some internet connections, this is small enough for us to pay the cost of redownloading every time we need it.  When you are working with larger datasets, a cache becomes a must have.  A cache will let you develop code faster.\n",
    "\n",
    "Let's create a new Python variable called `data`, which is a copy of our raw data:"
   ]
  },
  {
   "cell_type": "code",
   "execution_count": 3,
   "id": "e3e972e4",
   "metadata": {},
   "outputs": [],
   "source": [
    "data = raw.copy()"
   ]
  },
  {
   "cell_type": "markdown",
   "id": "00ad279f",
   "metadata": {},
   "source": [
    "This let's us keep a copy of the raw data in Python memory as we work & transform the data.  It's a similar idea to the hard-disk cache - saving raw data as soon as we get it.\n",
    "\n",
    "## Inspecting the Raw Data\n",
    "\n",
    "Now we have our data as a `pd.DataFrame`, we can start to explore it. \n",
    "\n",
    "`pandas` includes a few useful methods that will create summary metrics of the entire dataset.\n",
    "\n",
    "## Looking at Summaries\n",
    "\n",
    "### Shape\n",
    "\n",
    "The first is `.shape`, is an attribute that shows the number of rows and columns as a `tuple`:"
   ]
  },
  {
   "cell_type": "code",
   "execution_count": 4,
   "id": "5e990f1d-ace5-45bc-8b5d-2477f297f928",
   "metadata": {},
   "outputs": [
    {
     "data": {
      "text/plain": [
       "(277095, 12)"
      ]
     },
     "execution_count": 4,
     "metadata": {},
     "output_type": "execute_result"
    }
   ],
   "source": [
    "data.shape"
   ]
  },
  {
   "cell_type": "markdown",
   "id": "675d79eb",
   "metadata": {},
   "source": [
    "### Info and Describe\n",
    "\n",
    "`.info()` is a method that shows the columns along with the amount of non-null (non missing) data:"
   ]
  },
  {
   "cell_type": "code",
   "execution_count": 5,
   "id": "055ee065",
   "metadata": {},
   "outputs": [
    {
     "name": "stdout",
     "output_type": "stream",
     "text": [
      "<class 'pandas.core.frame.DataFrame'>\n",
      "RangeIndex: 277095 entries, 0 to 277094\n",
      "Data columns (total 12 columns):\n",
      " #   Column           Non-Null Count   Dtype  \n",
      "---  ------           --------------   -----  \n",
      " 0   Country          277095 non-null  object \n",
      " 1   Year             277095 non-null  int64  \n",
      " 2   ISO3166_alpha3   277095 non-null  object \n",
      " 3   ISO3166_numeric  193275 non-null  float64\n",
      " 4   Region           193275 non-null  object \n",
      " 5   SubRegion        193275 non-null  object \n",
      " 6   OPEC             193275 non-null  float64\n",
      " 7   EU               193275 non-null  float64\n",
      " 8   OECD             193275 non-null  float64\n",
      " 9   CIS              193275 non-null  float64\n",
      " 10  Var              277095 non-null  object \n",
      " 11  Value            277095 non-null  float64\n",
      "dtypes: float64(6), int64(1), object(5)\n",
      "memory usage: 25.4+ MB\n"
     ]
    }
   ],
   "source": [
    "data.info()"
   ]
  },
  {
   "cell_type": "markdown",
   "id": "indie-mexican",
   "metadata": {},
   "source": [
    "`.describe()` is a method that shows an in-depth statistical summary of the data, including percentiles (25%, 50% and 75%):"
   ]
  },
  {
   "cell_type": "code",
   "execution_count": 6,
   "id": "stupid-fusion",
   "metadata": {},
   "outputs": [
    {
     "data": {
      "text/html": [
       "<div>\n",
       "<style scoped>\n",
       "    .dataframe tbody tr th:only-of-type {\n",
       "        vertical-align: middle;\n",
       "    }\n",
       "\n",
       "    .dataframe tbody tr th {\n",
       "        vertical-align: top;\n",
       "    }\n",
       "\n",
       "    .dataframe thead th {\n",
       "        text-align: right;\n",
       "    }\n",
       "</style>\n",
       "<table border=\"1\" class=\"dataframe\">\n",
       "  <thead>\n",
       "    <tr style=\"text-align: right;\">\n",
       "      <th></th>\n",
       "      <th>Year</th>\n",
       "      <th>ISO3166_numeric</th>\n",
       "      <th>OPEC</th>\n",
       "      <th>EU</th>\n",
       "      <th>OECD</th>\n",
       "      <th>CIS</th>\n",
       "      <th>Value</th>\n",
       "    </tr>\n",
       "  </thead>\n",
       "  <tbody>\n",
       "    <tr>\n",
       "      <th>count</th>\n",
       "      <td>277095.000000</td>\n",
       "      <td>193275.000000</td>\n",
       "      <td>193275.000000</td>\n",
       "      <td>193275.000000</td>\n",
       "      <td>193275.000000</td>\n",
       "      <td>193275.000000</td>\n",
       "      <td>277095.000000</td>\n",
       "    </tr>\n",
       "    <tr>\n",
       "      <th>mean</th>\n",
       "      <td>1996.581479</td>\n",
       "      <td>449.713295</td>\n",
       "      <td>0.103200</td>\n",
       "      <td>0.282623</td>\n",
       "      <td>0.453297</td>\n",
       "      <td>0.056510</td>\n",
       "      <td>567.504734</td>\n",
       "    </tr>\n",
       "    <tr>\n",
       "      <th>std</th>\n",
       "      <td>15.400751</td>\n",
       "      <td>259.786720</td>\n",
       "      <td>0.304221</td>\n",
       "      <td>0.450276</td>\n",
       "      <td>0.497815</td>\n",
       "      <td>0.230905</td>\n",
       "      <td>3741.758624</td>\n",
       "    </tr>\n",
       "    <tr>\n",
       "      <th>min</th>\n",
       "      <td>1965.000000</td>\n",
       "      <td>12.000000</td>\n",
       "      <td>0.000000</td>\n",
       "      <td>0.000000</td>\n",
       "      <td>0.000000</td>\n",
       "      <td>0.000000</td>\n",
       "      <td>-1.623892</td>\n",
       "    </tr>\n",
       "    <tr>\n",
       "      <th>25%</th>\n",
       "      <td>1985.000000</td>\n",
       "      <td>208.000000</td>\n",
       "      <td>0.000000</td>\n",
       "      <td>0.000000</td>\n",
       "      <td>0.000000</td>\n",
       "      <td>0.000000</td>\n",
       "      <td>0.082410</td>\n",
       "    </tr>\n",
       "    <tr>\n",
       "      <th>50%</th>\n",
       "      <td>1998.000000</td>\n",
       "      <td>428.000000</td>\n",
       "      <td>0.000000</td>\n",
       "      <td>0.000000</td>\n",
       "      <td>0.000000</td>\n",
       "      <td>0.000000</td>\n",
       "      <td>4.595522</td>\n",
       "    </tr>\n",
       "    <tr>\n",
       "      <th>75%</th>\n",
       "      <td>2010.000000</td>\n",
       "      <td>703.000000</td>\n",
       "      <td>0.000000</td>\n",
       "      <td>1.000000</td>\n",
       "      <td>1.000000</td>\n",
       "      <td>0.000000</td>\n",
       "      <td>73.445450</td>\n",
       "    </tr>\n",
       "    <tr>\n",
       "      <th>max</th>\n",
       "      <td>2021.000000</td>\n",
       "      <td>894.000000</td>\n",
       "      <td>1.000000</td>\n",
       "      <td>1.000000</td>\n",
       "      <td>1.000000</td>\n",
       "      <td>1.000000</td>\n",
       "      <td>339208.700000</td>\n",
       "    </tr>\n",
       "  </tbody>\n",
       "</table>\n",
       "</div>"
      ],
      "text/plain": [
       "                Year  ISO3166_numeric           OPEC             EU           OECD            CIS          Value\n",
       "count  277095.000000    193275.000000  193275.000000  193275.000000  193275.000000  193275.000000  277095.000000\n",
       "mean     1996.581479       449.713295       0.103200       0.282623       0.453297       0.056510     567.504734\n",
       "std        15.400751       259.786720       0.304221       0.450276       0.497815       0.230905    3741.758624\n",
       "min      1965.000000        12.000000       0.000000       0.000000       0.000000       0.000000      -1.623892\n",
       "25%      1985.000000       208.000000       0.000000       0.000000       0.000000       0.000000       0.082410\n",
       "50%      1998.000000       428.000000       0.000000       0.000000       0.000000       0.000000       4.595522\n",
       "75%      2010.000000       703.000000       0.000000       1.000000       1.000000       0.000000      73.445450\n",
       "max      2021.000000       894.000000       1.000000       1.000000       1.000000       1.000000  339208.700000"
      ]
     },
     "execution_count": 6,
     "metadata": {},
     "output_type": "execute_result"
    }
   ],
   "source": [
    "data.describe()"
   ]
  },
  {
   "cell_type": "markdown",
   "id": "0417f541",
   "metadata": {},
   "source": [
    "`.describe()` will only show us statistics for numeric columns - note that our `Var` column is not present in `.describe()`.\n",
    "\n",
    "## Looking at Individual Samples\n",
    "\n",
    "### Looking at Columns\n",
    "\n",
    "Let's first start by looking at what columns we have in this dataset:"
   ]
  },
  {
   "cell_type": "code",
   "execution_count": 7,
   "id": "c79f6aa4",
   "metadata": {},
   "outputs": [
    {
     "data": {
      "text/plain": [
       "Index(['Country', 'Year', 'ISO3166_alpha3', 'ISO3166_numeric', 'Region', 'SubRegion', 'OPEC', 'EU', 'OECD', 'CIS', 'Var', 'Value'], dtype='object')"
      ]
     },
     "execution_count": 7,
     "metadata": {},
     "output_type": "execute_result"
    }
   ],
   "source": [
    "data.columns"
   ]
  },
  {
   "cell_type": "markdown",
   "id": "eac00d0d",
   "metadata": {},
   "source": [
    "We can inspect a few columns alone using the `[]` syntax to select columns:"
   ]
  },
  {
   "cell_type": "code",
   "execution_count": 8,
   "id": "activated-ordinance",
   "metadata": {
    "lines_to_next_cell": 0
   },
   "outputs": [
    {
     "data": {
      "text/html": [
       "<div>\n",
       "<style scoped>\n",
       "    .dataframe tbody tr th:only-of-type {\n",
       "        vertical-align: middle;\n",
       "    }\n",
       "\n",
       "    .dataframe tbody tr th {\n",
       "        vertical-align: top;\n",
       "    }\n",
       "\n",
       "    .dataframe thead th {\n",
       "        text-align: right;\n",
       "    }\n",
       "</style>\n",
       "<table border=\"1\" class=\"dataframe\">\n",
       "  <thead>\n",
       "    <tr style=\"text-align: right;\">\n",
       "      <th></th>\n",
       "      <th>Country</th>\n",
       "      <th>Region</th>\n",
       "    </tr>\n",
       "  </thead>\n",
       "  <tbody>\n",
       "    <tr>\n",
       "      <th>3980</th>\n",
       "      <td>Total Non-OECD</td>\n",
       "      <td>NaN</td>\n",
       "    </tr>\n",
       "    <tr>\n",
       "      <th>82049</th>\n",
       "      <td>Bangladesh</td>\n",
       "      <td>Asia Pacific</td>\n",
       "    </tr>\n",
       "    <tr>\n",
       "      <th>162163</th>\n",
       "      <td>Other Northern Africa</td>\n",
       "      <td>NaN</td>\n",
       "    </tr>\n",
       "  </tbody>\n",
       "</table>\n",
       "</div>"
      ],
      "text/plain": [
       "                      Country        Region\n",
       "3980           Total Non-OECD           NaN\n",
       "82049              Bangladesh  Asia Pacific\n",
       "162163  Other Northern Africa           NaN"
      ]
     },
     "execution_count": 8,
     "metadata": {},
     "output_type": "execute_result"
    }
   ],
   "source": [
    "data[[\"Country\", \"Region\"]].sample(3)"
   ]
  },
  {
   "cell_type": "markdown",
   "id": "80906341",
   "metadata": {},
   "source": [
    "### Looking at Rows\n",
    "\n",
    "Row based inspection methods are useful for showing small snapshots of the data.\n",
    "\n",
    "We can inspect this data using `.head(3)` to look at the first three rows:"
   ]
  },
  {
   "cell_type": "code",
   "execution_count": 9,
   "id": "34fe39d2",
   "metadata": {},
   "outputs": [
    {
     "data": {
      "text/html": [
       "<div>\n",
       "<style scoped>\n",
       "    .dataframe tbody tr th:only-of-type {\n",
       "        vertical-align: middle;\n",
       "    }\n",
       "\n",
       "    .dataframe tbody tr th {\n",
       "        vertical-align: top;\n",
       "    }\n",
       "\n",
       "    .dataframe thead th {\n",
       "        text-align: right;\n",
       "    }\n",
       "</style>\n",
       "<table border=\"1\" class=\"dataframe\">\n",
       "  <thead>\n",
       "    <tr style=\"text-align: right;\">\n",
       "      <th></th>\n",
       "      <th>Country</th>\n",
       "      <th>Year</th>\n",
       "      <th>ISO3166_alpha3</th>\n",
       "      <th>ISO3166_numeric</th>\n",
       "      <th>Region</th>\n",
       "      <th>SubRegion</th>\n",
       "      <th>OPEC</th>\n",
       "      <th>EU</th>\n",
       "      <th>OECD</th>\n",
       "      <th>CIS</th>\n",
       "      <th>Var</th>\n",
       "      <th>Value</th>\n",
       "    </tr>\n",
       "  </thead>\n",
       "  <tbody>\n",
       "    <tr>\n",
       "      <th>0</th>\n",
       "      <td>Brazil</td>\n",
       "      <td>2004</td>\n",
       "      <td>BRA</td>\n",
       "      <td>76.0</td>\n",
       "      <td>S. &amp; Cent. America</td>\n",
       "      <td>South America</td>\n",
       "      <td>0.0</td>\n",
       "      <td>0.0</td>\n",
       "      <td>0.0</td>\n",
       "      <td>0.0</td>\n",
       "      <td>biodiesel_cons_kboed</td>\n",
       "      <td>0.000000</td>\n",
       "    </tr>\n",
       "    <tr>\n",
       "      <th>1</th>\n",
       "      <td>Brazil</td>\n",
       "      <td>2005</td>\n",
       "      <td>BRA</td>\n",
       "      <td>76.0</td>\n",
       "      <td>S. &amp; Cent. America</td>\n",
       "      <td>South America</td>\n",
       "      <td>0.0</td>\n",
       "      <td>0.0</td>\n",
       "      <td>0.0</td>\n",
       "      <td>0.0</td>\n",
       "      <td>biodiesel_cons_kboed</td>\n",
       "      <td>0.014737</td>\n",
       "    </tr>\n",
       "    <tr>\n",
       "      <th>2</th>\n",
       "      <td>Brazil</td>\n",
       "      <td>2006</td>\n",
       "      <td>BRA</td>\n",
       "      <td>76.0</td>\n",
       "      <td>S. &amp; Cent. America</td>\n",
       "      <td>South America</td>\n",
       "      <td>0.0</td>\n",
       "      <td>0.0</td>\n",
       "      <td>0.0</td>\n",
       "      <td>0.0</td>\n",
       "      <td>biodiesel_cons_kboed</td>\n",
       "      <td>1.016887</td>\n",
       "    </tr>\n",
       "  </tbody>\n",
       "</table>\n",
       "</div>"
      ],
      "text/plain": [
       "  Country  Year ISO3166_alpha3  ISO3166_numeric              Region      SubRegion  OPEC   EU  OECD  CIS                   Var     Value\n",
       "0  Brazil  2004            BRA             76.0  S. & Cent. America  South America   0.0  0.0   0.0  0.0  biodiesel_cons_kboed  0.000000\n",
       "1  Brazil  2005            BRA             76.0  S. & Cent. America  South America   0.0  0.0   0.0  0.0  biodiesel_cons_kboed  0.014737\n",
       "2  Brazil  2006            BRA             76.0  S. & Cent. America  South America   0.0  0.0   0.0  0.0  biodiesel_cons_kboed  1.016887"
      ]
     },
     "execution_count": 9,
     "metadata": {},
     "output_type": "execute_result"
    }
   ],
   "source": [
    "data.head(3)"
   ]
  },
  {
   "cell_type": "markdown",
   "id": "supported-cowboy",
   "metadata": {},
   "source": [
    "`.tail(3)` to look at the bottom three rows:"
   ]
  },
  {
   "cell_type": "code",
   "execution_count": 10,
   "id": "common-spirit",
   "metadata": {},
   "outputs": [
    {
     "data": {
      "text/html": [
       "<div>\n",
       "<style scoped>\n",
       "    .dataframe tbody tr th:only-of-type {\n",
       "        vertical-align: middle;\n",
       "    }\n",
       "\n",
       "    .dataframe tbody tr th {\n",
       "        vertical-align: top;\n",
       "    }\n",
       "\n",
       "    .dataframe thead th {\n",
       "        text-align: right;\n",
       "    }\n",
       "</style>\n",
       "<table border=\"1\" class=\"dataframe\">\n",
       "  <thead>\n",
       "    <tr style=\"text-align: right;\">\n",
       "      <th></th>\n",
       "      <th>Country</th>\n",
       "      <th>Year</th>\n",
       "      <th>ISO3166_alpha3</th>\n",
       "      <th>ISO3166_numeric</th>\n",
       "      <th>Region</th>\n",
       "      <th>SubRegion</th>\n",
       "      <th>OPEC</th>\n",
       "      <th>EU</th>\n",
       "      <th>OECD</th>\n",
       "      <th>CIS</th>\n",
       "      <th>Var</th>\n",
       "      <th>Value</th>\n",
       "    </tr>\n",
       "  </thead>\n",
       "  <tbody>\n",
       "    <tr>\n",
       "      <th>277092</th>\n",
       "      <td>Vietnam</td>\n",
       "      <td>2019</td>\n",
       "      <td>VNM</td>\n",
       "      <td>704.0</td>\n",
       "      <td>Asia Pacific</td>\n",
       "      <td>Asia Pacific</td>\n",
       "      <td>0.0</td>\n",
       "      <td>0.0</td>\n",
       "      <td>0.0</td>\n",
       "      <td>0.0</td>\n",
       "      <td>wind_twh_net</td>\n",
       "      <td>0.714780</td>\n",
       "    </tr>\n",
       "    <tr>\n",
       "      <th>277093</th>\n",
       "      <td>Vietnam</td>\n",
       "      <td>2020</td>\n",
       "      <td>VNM</td>\n",
       "      <td>704.0</td>\n",
       "      <td>Asia Pacific</td>\n",
       "      <td>Asia Pacific</td>\n",
       "      <td>0.0</td>\n",
       "      <td>0.0</td>\n",
       "      <td>0.0</td>\n",
       "      <td>0.0</td>\n",
       "      <td>wind_twh_net</td>\n",
       "      <td>1.063052</td>\n",
       "    </tr>\n",
       "    <tr>\n",
       "      <th>277094</th>\n",
       "      <td>Vietnam</td>\n",
       "      <td>2021</td>\n",
       "      <td>VNM</td>\n",
       "      <td>704.0</td>\n",
       "      <td>Asia Pacific</td>\n",
       "      <td>Asia Pacific</td>\n",
       "      <td>0.0</td>\n",
       "      <td>0.0</td>\n",
       "      <td>0.0</td>\n",
       "      <td>0.0</td>\n",
       "      <td>wind_twh_net</td>\n",
       "      <td>2.367697</td>\n",
       "    </tr>\n",
       "  </tbody>\n",
       "</table>\n",
       "</div>"
      ],
      "text/plain": [
       "        Country  Year ISO3166_alpha3  ISO3166_numeric        Region     SubRegion  OPEC   EU  OECD  CIS           Var     Value\n",
       "277092  Vietnam  2019            VNM            704.0  Asia Pacific  Asia Pacific   0.0  0.0   0.0  0.0  wind_twh_net  0.714780\n",
       "277093  Vietnam  2020            VNM            704.0  Asia Pacific  Asia Pacific   0.0  0.0   0.0  0.0  wind_twh_net  1.063052\n",
       "277094  Vietnam  2021            VNM            704.0  Asia Pacific  Asia Pacific   0.0  0.0   0.0  0.0  wind_twh_net  2.367697"
      ]
     },
     "execution_count": 10,
     "metadata": {},
     "output_type": "execute_result"
    }
   ],
   "source": [
    "data.tail(3)"
   ]
  },
  {
   "cell_type": "markdown",
   "id": "60ef642f",
   "metadata": {},
   "source": [
    "We can inspect eight random rows using `.sample(8)`:"
   ]
  },
  {
   "cell_type": "code",
   "execution_count": 11,
   "id": "ad98d654",
   "metadata": {},
   "outputs": [
    {
     "data": {
      "text/html": [
       "<div>\n",
       "<style scoped>\n",
       "    .dataframe tbody tr th:only-of-type {\n",
       "        vertical-align: middle;\n",
       "    }\n",
       "\n",
       "    .dataframe tbody tr th {\n",
       "        vertical-align: top;\n",
       "    }\n",
       "\n",
       "    .dataframe thead th {\n",
       "        text-align: right;\n",
       "    }\n",
       "</style>\n",
       "<table border=\"1\" class=\"dataframe\">\n",
       "  <thead>\n",
       "    <tr style=\"text-align: right;\">\n",
       "      <th></th>\n",
       "      <th>Country</th>\n",
       "      <th>Year</th>\n",
       "      <th>ISO3166_alpha3</th>\n",
       "      <th>ISO3166_numeric</th>\n",
       "      <th>Region</th>\n",
       "      <th>SubRegion</th>\n",
       "      <th>OPEC</th>\n",
       "      <th>EU</th>\n",
       "      <th>OECD</th>\n",
       "      <th>CIS</th>\n",
       "      <th>Var</th>\n",
       "      <th>Value</th>\n",
       "    </tr>\n",
       "  </thead>\n",
       "  <tbody>\n",
       "    <tr>\n",
       "      <th>257857</th>\n",
       "      <td>Total Non-OECD</td>\n",
       "      <td>1986</td>\n",
       "      <td>T-NOECD</td>\n",
       "      <td>NaN</td>\n",
       "      <td>NaN</td>\n",
       "      <td>NaN</td>\n",
       "      <td>NaN</td>\n",
       "      <td>NaN</td>\n",
       "      <td>NaN</td>\n",
       "      <td>NaN</td>\n",
       "      <td>solar_twh</td>\n",
       "      <td>0.000000</td>\n",
       "    </tr>\n",
       "    <tr>\n",
       "      <th>173742</th>\n",
       "      <td>Peru</td>\n",
       "      <td>2013</td>\n",
       "      <td>PER</td>\n",
       "      <td>604.0</td>\n",
       "      <td>S. &amp; Cent. America</td>\n",
       "      <td>South America</td>\n",
       "      <td>0.0</td>\n",
       "      <td>0.0</td>\n",
       "      <td>0.0</td>\n",
       "      <td>0.0</td>\n",
       "      <td>oilcons_mt</td>\n",
       "      <td>9.988245</td>\n",
       "    </tr>\n",
       "    <tr>\n",
       "      <th>75632</th>\n",
       "      <td>Spain</td>\n",
       "      <td>1985</td>\n",
       "      <td>ESP</td>\n",
       "      <td>724.0</td>\n",
       "      <td>Europe</td>\n",
       "      <td>Europe</td>\n",
       "      <td>0.0</td>\n",
       "      <td>1.0</td>\n",
       "      <td>1.0</td>\n",
       "      <td>0.0</td>\n",
       "      <td>electbyfuel_ren_power</td>\n",
       "      <td>0.611000</td>\n",
       "    </tr>\n",
       "    <tr>\n",
       "      <th>4268</th>\n",
       "      <td>US</td>\n",
       "      <td>2006</td>\n",
       "      <td>USA</td>\n",
       "      <td>840.0</td>\n",
       "      <td>North America</td>\n",
       "      <td>North America</td>\n",
       "      <td>0.0</td>\n",
       "      <td>0.0</td>\n",
       "      <td>1.0</td>\n",
       "      <td>0.0</td>\n",
       "      <td>biofuels_cons_ej</td>\n",
       "      <td>0.474120</td>\n",
       "    </tr>\n",
       "    <tr>\n",
       "      <th>267031</th>\n",
       "      <td>Total Middle East</td>\n",
       "      <td>2012</td>\n",
       "      <td>T-ME</td>\n",
       "      <td>NaN</td>\n",
       "      <td>NaN</td>\n",
       "      <td>NaN</td>\n",
       "      <td>NaN</td>\n",
       "      <td>NaN</td>\n",
       "      <td>NaN</td>\n",
       "      <td>NaN</td>\n",
       "      <td>wind_ej</td>\n",
       "      <td>0.002915</td>\n",
       "    </tr>\n",
       "    <tr>\n",
       "      <th>21869</th>\n",
       "      <td>Turkey</td>\n",
       "      <td>2006</td>\n",
       "      <td>TUR</td>\n",
       "      <td>792.0</td>\n",
       "      <td>Europe</td>\n",
       "      <td>Europe</td>\n",
       "      <td>0.0</td>\n",
       "      <td>0.0</td>\n",
       "      <td>1.0</td>\n",
       "      <td>0.0</td>\n",
       "      <td>biogeo_twh</td>\n",
       "      <td>0.147850</td>\n",
       "    </tr>\n",
       "    <tr>\n",
       "      <th>92332</th>\n",
       "      <td>Belgium</td>\n",
       "      <td>1995</td>\n",
       "      <td>BEL</td>\n",
       "      <td>56.0</td>\n",
       "      <td>Europe</td>\n",
       "      <td>Europe</td>\n",
       "      <td>0.0</td>\n",
       "      <td>1.0</td>\n",
       "      <td>1.0</td>\n",
       "      <td>0.0</td>\n",
       "      <td>gascons_ej</td>\n",
       "      <td>0.448292</td>\n",
       "    </tr>\n",
       "    <tr>\n",
       "      <th>146694</th>\n",
       "      <td>Algeria</td>\n",
       "      <td>1981</td>\n",
       "      <td>DZA</td>\n",
       "      <td>12.0</td>\n",
       "      <td>Africa</td>\n",
       "      <td>Northern Africa</td>\n",
       "      <td>1.0</td>\n",
       "      <td>0.0</td>\n",
       "      <td>0.0</td>\n",
       "      <td>0.0</td>\n",
       "      <td>nuclear_ej</td>\n",
       "      <td>0.000000</td>\n",
       "    </tr>\n",
       "  </tbody>\n",
       "</table>\n",
       "</div>"
      ],
      "text/plain": [
       "                  Country  Year ISO3166_alpha3  ISO3166_numeric              Region        SubRegion  OPEC   EU  OECD  CIS                    Var     Value\n",
       "257857     Total Non-OECD  1986        T-NOECD              NaN                 NaN              NaN   NaN  NaN   NaN  NaN              solar_twh  0.000000\n",
       "173742               Peru  2013            PER            604.0  S. & Cent. America    South America   0.0  0.0   0.0  0.0             oilcons_mt  9.988245\n",
       "75632               Spain  1985            ESP            724.0              Europe           Europe   0.0  1.0   1.0  0.0  electbyfuel_ren_power  0.611000\n",
       "4268                   US  2006            USA            840.0       North America    North America   0.0  0.0   1.0  0.0       biofuels_cons_ej  0.474120\n",
       "267031  Total Middle East  2012           T-ME              NaN                 NaN              NaN   NaN  NaN   NaN  NaN                wind_ej  0.002915\n",
       "21869              Turkey  2006            TUR            792.0              Europe           Europe   0.0  0.0   1.0  0.0             biogeo_twh  0.147850\n",
       "92332             Belgium  1995            BEL             56.0              Europe           Europe   0.0  1.0   1.0  0.0             gascons_ej  0.448292\n",
       "146694            Algeria  1981            DZA             12.0              Africa  Northern Africa   1.0  0.0   0.0  0.0             nuclear_ej  0.000000"
      ]
     },
     "execution_count": 11,
     "metadata": {},
     "output_type": "execute_result"
    }
   ],
   "source": [
    "data.sample(8, random_state=5)"
   ]
  },
  {
   "cell_type": "markdown",
   "id": "62e3cc85",
   "metadata": {},
   "source": [
    "From looking at this dataset, we can see that the `Var` and `Value` column are closely related - we can see from the `.sample` above, that we have measurement of different data such as solar production `solar_twh` or oil consumption `oilcons_mt`."
   ]
  },
  {
   "cell_type": "markdown",
   "id": "35d2678f",
   "metadata": {},
   "source": [
    "## What do our Columns Mean?\n",
    "\n",
    "For any dataset we are working with, we should attempt to understand what each column means.  \n",
    "\n",
    "For this dataset, some of the columns (such as `Country` or `Year`) are self-explanatory - the less explanatory columns mean the following:\n",
    "\n",
    "- `ISO3166_alpha3` = the alphabetic code for a country using the [ISO 3166 standard](https://en.wikipedia.org/wiki/List_of_ISO_3166_country_codes),\n",
    "- `ISO3166_numeric` = the numeric code for a country using the [ISO 3166 standard](https://en.wikipedia.org/wiki/List_of_ISO_3166_country_codes),\n",
    "- `OPEC`, `EU`, `OECD`, `CIS` = binary or boolean flags indicating whether a country belongs to a group such as the Organization of the Petroleum Exporting Countries (OPEC), Europe (EU), the Organization for Economic Cooperation and Development (OECD) or the Commonwealth of Independent States (CIS),\n",
    "- `Var` = the name of a variable/measurement,\n",
    "- `Value` the value of a variable/ measurement.\n",
    "\n",
    "The use of the `Var` and `Value` columns is known as a *key-value* style of database table."
   ]
  },
  {
   "cell_type": "markdown",
   "id": "072c0efb",
   "metadata": {},
   "source": [
    "## Which Countries Do We Have?\n",
    "\n",
    "As we are exploring our dataset, we should keep our business context in mind:\n",
    "\n",
    "> What is the historical wind production in New Zealand?\n",
    "\n",
    "Our business context is based around a specific country - naturally we will want to know which countries are in our dataset:"
   ]
  },
  {
   "cell_type": "code",
   "execution_count": 12,
   "id": "spatial-plaintiff",
   "metadata": {},
   "outputs": [
    {
     "data": {
      "text/plain": [
       "array(['Brazil', 'Other North America', 'Other S. & Cent. America',\n",
       "       'Other South America', 'Total Asia Pacific', 'Total CIS',\n",
       "       'Total EU', 'Total Europe', 'Total Middle East', 'Total Non-OECD',\n",
       "       'Total North America', 'Total OECD', 'Total S. & Cent. America',\n",
       "       'Total World', 'US', 'Total Africa', 'Argentina', 'Australia',\n",
       "       'Austria', 'Belarus', 'Belgium', 'Bulgaria', 'Canada', 'China',\n",
       "       'China Hong Kong SAR', 'Colombia', 'Croatia', 'Cyprus',\n",
       "       'Czech Republic', 'Denmark', 'Ecuador', 'Estonia', 'Finland',\n",
       "       'France', 'Germany', 'Greece', 'Hungary', 'Iceland', 'India',\n",
       "       'Indonesia', 'Ireland', 'Israel', 'Italy', 'Japan', 'Kazakhstan',\n",
       "       'Latvia', 'Lithuania', 'Luxembourg', 'Malaysia', 'Mexico',\n",
       "       'Netherlands', 'New Zealand', 'North Macedonia', 'Norway',\n",
       "       'Other Africa', 'Other Asia Pacific', 'Other Caribbean',\n",
       "       'Other Europe', 'Peru', 'Philippines', 'Poland', 'Portugal',\n",
       "       'Romania', 'Russian Federation', 'Slovakia', 'Slovenia',\n",
       "       'South Africa', 'South Korea', 'Spain', 'Sweden', 'Switzerland',\n",
       "       'Taiwan', 'Thailand', 'Total Central America',\n",
       "       'Total Eastern Africa', 'Turkey', 'Ukraine', 'United Kingdom',\n",
       "       'Algeria', 'Azerbaijan', 'Bangladesh', 'Chile', 'Egypt', 'Iran',\n",
       "       'Iraq', 'Kuwait', 'Morocco', 'Oman', 'Other CIS',\n",
       "       'Other Middle East', 'Other Northern Africa',\n",
       "       'Other Southern Africa', 'Pakistan', 'Qatar', 'Saudi Arabia',\n",
       "       'Singapore', 'Sri Lanka', 'Total Middle Africa',\n",
       "       'Total Western Africa', 'Trinidad & Tobago', 'Turkmenistan',\n",
       "       'USSR', 'United Arab Emirates', 'Uzbekistan', 'Venezuela',\n",
       "       'Vietnam', 'Mongolia', 'Other Eastern Africa', 'Serbia',\n",
       "       'Zimbabwe', 'Cuba', 'Democratic Republic of Congo', 'Madagascar',\n",
       "       'New Caledonia', 'Papua New Guinea', 'Rest of World', 'Zambia',\n",
       "       'Bahrain', 'Bolivia', 'Brunei', 'Libya', 'Myanmar', 'Nigeria',\n",
       "       'Other Western Africa', 'Syria', 'Yemen', 'Mozambique', 'Angola',\n",
       "       'Chad', 'Equatorial Guinea', 'Gabon', 'Other Middle Africa',\n",
       "       'Republic of Congo', 'South Sudan', 'Sudan', 'Total Non-OPEC',\n",
       "       'Total OPEC', 'Tunisia', 'Curacao', 'Netherlands Antilles'],\n",
       "      dtype=object)"
      ]
     },
     "execution_count": 12,
     "metadata": {},
     "output_type": "execute_result"
    }
   ],
   "source": [
    "data['Country'].unique()"
   ]
  },
  {
   "cell_type": "markdown",
   "id": "tamil-hartford",
   "metadata": {},
   "source": [
    "And also confirm that New Zealand is in our dataset:"
   ]
  },
  {
   "cell_type": "code",
   "execution_count": 13,
   "id": "concrete-domain",
   "metadata": {
    "lines_to_next_cell": 2
   },
   "outputs": [],
   "source": [
    "assert \"New Zealand\" in data['Country'].unique()"
   ]
  },
  {
   "cell_type": "markdown",
   "id": "suburban-basic",
   "metadata": {},
   "source": [
    "## Modifying the Raw Data\n",
    "\n",
    "At this point, we will narrow our focus to New Zealand by filtering on `New Zealand`.  \n",
    "\n",
    "As this is a modification of our raw data, we will create another copy to modify and work with. \n",
    "\n",
    "You don't need to always do this - here we do it just to emphasize that we are mutating our dataset."
   ]
  },
  {
   "cell_type": "markdown",
   "id": "7bb742b1",
   "metadata": {},
   "source": [
    "### Copying the Raw Data\n",
    "\n",
    "as we are now starting to modify our data, we will use a new python variable called `processed` that starts off as a copy of our raw data:"
   ]
  },
  {
   "cell_type": "code",
   "execution_count": 14,
   "id": "grave-dressing",
   "metadata": {
    "lines_to_next_cell": 2
   },
   "outputs": [],
   "source": [
    "processed = raw.copy()"
   ]
  },
  {
   "cell_type": "markdown",
   "id": "64e4fe70",
   "metadata": {},
   "source": [
    "### Filter for New Zealand\n",
    "\n",
    "Now we have our `processed` data to modify, let's filter on New Zealand:"
   ]
  },
  {
   "cell_type": "code",
   "execution_count": 15,
   "id": "eligible-confidence",
   "metadata": {},
   "outputs": [],
   "source": [
    "processed = processed[processed['Country'] == \"New Zealand\"]"
   ]
  },
  {
   "cell_type": "markdown",
   "id": "arctic-tissue",
   "metadata": {},
   "source": [
    "We can do a check that our filter worked by asserting that we only have a single unique value in the `Country` column:"
   ]
  },
  {
   "cell_type": "code",
   "execution_count": 16,
   "id": "necessary-nebraska",
   "metadata": {
    "lines_to_next_cell": 2
   },
   "outputs": [],
   "source": [
    "assert processed['Country'].unique().shape[0] == 1"
   ]
  },
  {
   "cell_type": "markdown",
   "id": "e81a22e2",
   "metadata": {},
   "source": [
    "### Remove Unneeded Columns\n",
    "\n",
    "Let's also remove columns we don't think we will need:"
   ]
  },
  {
   "cell_type": "code",
   "execution_count": 17,
   "id": "0ca3887b",
   "metadata": {},
   "outputs": [],
   "source": [
    "processed = processed.drop([\"ISO3166_numeric\", \"Region\", \"SubRegion\", \"OPEC\", \"EU\", \"OECD\", \"CIS\"], axis=1)"
   ]
  },
  {
   "cell_type": "markdown",
   "id": "d08e97be",
   "metadata": {},
   "source": [
    "Let's do a quick inspection of our remaining data:"
   ]
  },
  {
   "cell_type": "code",
   "execution_count": 18,
   "id": "1df518dd",
   "metadata": {},
   "outputs": [
    {
     "data": {
      "text/plain": [
       "(2218, 5)"
      ]
     },
     "execution_count": 18,
     "metadata": {},
     "output_type": "execute_result"
    }
   ],
   "source": [
    "processed.shape"
   ]
  },
  {
   "cell_type": "code",
   "execution_count": 19,
   "id": "0d049635",
   "metadata": {
    "lines_to_next_cell": 2
   },
   "outputs": [
    {
     "data": {
      "text/html": [
       "<div>\n",
       "<style scoped>\n",
       "    .dataframe tbody tr th:only-of-type {\n",
       "        vertical-align: middle;\n",
       "    }\n",
       "\n",
       "    .dataframe tbody tr th {\n",
       "        vertical-align: top;\n",
       "    }\n",
       "\n",
       "    .dataframe thead th {\n",
       "        text-align: right;\n",
       "    }\n",
       "</style>\n",
       "<table border=\"1\" class=\"dataframe\">\n",
       "  <thead>\n",
       "    <tr style=\"text-align: right;\">\n",
       "      <th></th>\n",
       "      <th>Country</th>\n",
       "      <th>Year</th>\n",
       "      <th>ISO3166_alpha3</th>\n",
       "      <th>Var</th>\n",
       "      <th>Value</th>\n",
       "    </tr>\n",
       "  </thead>\n",
       "  <tbody>\n",
       "    <tr>\n",
       "      <th>59436</th>\n",
       "      <td>New Zealand</td>\n",
       "      <td>2005</td>\n",
       "      <td>NZL</td>\n",
       "      <td>elect_twh</td>\n",
       "      <td>42.980836</td>\n",
       "    </tr>\n",
       "    <tr>\n",
       "      <th>137924</th>\n",
       "      <td>New Zealand</td>\n",
       "      <td>2020</td>\n",
       "      <td>NZL</td>\n",
       "      <td>liqcons_kbd</td>\n",
       "      <td>146.766980</td>\n",
       "    </tr>\n",
       "    <tr>\n",
       "      <th>172893</th>\n",
       "      <td>New Zealand</td>\n",
       "      <td>1974</td>\n",
       "      <td>NZL</td>\n",
       "      <td>oilcons_mt</td>\n",
       "      <td>4.464530</td>\n",
       "    </tr>\n",
       "    <tr>\n",
       "      <th>24180</th>\n",
       "      <td>New Zealand</td>\n",
       "      <td>2007</td>\n",
       "      <td>NZL</td>\n",
       "      <td>biogeo_twh_net</td>\n",
       "      <td>4.045453</td>\n",
       "    </tr>\n",
       "    <tr>\n",
       "      <th>241628</th>\n",
       "      <td>New Zealand</td>\n",
       "      <td>2015</td>\n",
       "      <td>NZL</td>\n",
       "      <td>ren_power_twh_net</td>\n",
       "      <td>10.888139</td>\n",
       "    </tr>\n",
       "    <tr>\n",
       "      <th>208010</th>\n",
       "      <td>New Zealand</td>\n",
       "      <td>1975</td>\n",
       "      <td>NZL</td>\n",
       "      <td>primary_ej</td>\n",
       "      <td>0.457983</td>\n",
       "    </tr>\n",
       "    <tr>\n",
       "      <th>274168</th>\n",
       "      <td>New Zealand</td>\n",
       "      <td>1987</td>\n",
       "      <td>NZL</td>\n",
       "      <td>wind_twh_net</td>\n",
       "      <td>0.000000</td>\n",
       "    </tr>\n",
       "    <tr>\n",
       "      <th>148495</th>\n",
       "      <td>New Zealand</td>\n",
       "      <td>1991</td>\n",
       "      <td>NZL</td>\n",
       "      <td>nuclear_ej</td>\n",
       "      <td>0.000000</td>\n",
       "    </tr>\n",
       "  </tbody>\n",
       "</table>\n",
       "</div>"
      ],
      "text/plain": [
       "            Country  Year ISO3166_alpha3                Var       Value\n",
       "59436   New Zealand  2005            NZL          elect_twh   42.980836\n",
       "137924  New Zealand  2020            NZL        liqcons_kbd  146.766980\n",
       "172893  New Zealand  1974            NZL         oilcons_mt    4.464530\n",
       "24180   New Zealand  2007            NZL     biogeo_twh_net    4.045453\n",
       "241628  New Zealand  2015            NZL  ren_power_twh_net   10.888139\n",
       "208010  New Zealand  1975            NZL         primary_ej    0.457983\n",
       "274168  New Zealand  1987            NZL       wind_twh_net    0.000000\n",
       "148495  New Zealand  1991            NZL         nuclear_ej    0.000000"
      ]
     },
     "execution_count": 19,
     "metadata": {},
     "output_type": "execute_result"
    }
   ],
   "source": [
    "processed.sample(8)"
   ]
  },
  {
   "cell_type": "markdown",
   "id": "853fd99d",
   "metadata": {},
   "source": [
    "## Which Variables Do We Have?\n",
    "\n",
    "We now have a dataset filtered for New Zealand - let's take a look at what variables we have on this subset:"
   ]
  },
  {
   "cell_type": "code",
   "execution_count": 20,
   "id": "3deecc71",
   "metadata": {},
   "outputs": [
    {
     "data": {
      "text/plain": [
       "array(['biofuels_cons_ej', 'biofuels_cons_kbd', 'biogeo_ej', 'biogeo_twh',\n",
       "       'biogeo_twh_net', 'co2_combust_mtco2', 'co2_combust_pc',\n",
       "       'co2_combust_per_ej', 'co2_mtco2', 'coalcons_ej', 'coalprod_ej',\n",
       "       'coalprod_mt', 'elect_twh', 'gascons_bcfd', 'gascons_bcm',\n",
       "       'gascons_ej', 'hydro_ej', 'hydro_twh', 'hydro_twh_net',\n",
       "       'liqcons_kbd', 'methane_process_mtco2', 'nuclear_ej',\n",
       "       'nuclear_twh', 'nuclear_twh_net', 'oilcons_ej', 'oilcons_kbd',\n",
       "       'oilcons_mt', 'pop', 'primary_eintensity', 'primary_ej',\n",
       "       'primary_ej_pc', 'refcap_kbd', 'refcaputil_pct', 'refthru_kbd',\n",
       "       'ren_power_ej', 'ren_power_twh', 'ren_power_twh_net',\n",
       "       'renewables_ej', 'solar_ej', 'solar_twh', 'solar_twh_net',\n",
       "       'wind_ej', 'wind_twh', 'wind_twh_net'], dtype=object)"
      ]
     },
     "execution_count": 20,
     "metadata": {},
     "output_type": "execute_result"
    }
   ],
   "source": [
    "processed['Var'].unique()"
   ]
  },
  {
   "cell_type": "markdown",
   "id": "924d5f0c",
   "metadata": {},
   "source": [
    "We can also get the counts for each of our variables:"
   ]
  },
  {
   "cell_type": "code",
   "execution_count": 21,
   "id": "cb125fa8",
   "metadata": {},
   "outputs": [
    {
     "data": {
      "text/plain": [
       "hydro_twh_net            57\n",
       "oilcons_mt               57\n",
       "liqcons_kbd              57\n",
       "solar_twh_net            57\n",
       "solar_twh                57\n",
       "solar_ej                 57\n",
       "oilcons_ej               57\n",
       "oilcons_kbd              57\n",
       "pop                      57\n",
       "hydro_twh                57\n",
       "primary_eintensity       57\n",
       "primary_ej               57\n",
       "primary_ej_pc            57\n",
       "refcap_kbd               57\n",
       "ren_power_ej             57\n",
       "ren_power_twh            57\n",
       "renewables_ej            57\n",
       "ren_power_twh_net        57\n",
       "hydro_ej                 57\n",
       "co2_combust_pc           57\n",
       "biogeo_ej                57\n",
       "biogeo_twh               57\n",
       "biogeo_twh_net           57\n",
       "co2_combust_mtco2        57\n",
       "coalcons_ej              57\n",
       "co2_combust_per_ej       57\n",
       "gascons_bcm              52\n",
       "gascons_bcfd             52\n",
       "gascons_ej               52\n",
       "wind_twh                 48\n",
       "wind_ej                  48\n",
       "wind_twh_net             48\n",
       "refcaputil_pct           42\n",
       "refthru_kbd              42\n",
       "coalprod_ej              41\n",
       "coalprod_mt              41\n",
       "elect_twh                37\n",
       "nuclear_twh              35\n",
       "nuclear_twh_net          35\n",
       "nuclear_ej               35\n",
       "biofuels_cons_kbd        32\n",
       "methane_process_mtco2    32\n",
       "co2_mtco2                32\n",
       "biofuels_cons_ej         32\n",
       "Name: Var, dtype: int64"
      ]
     },
     "execution_count": 21,
     "metadata": {},
     "output_type": "execute_result"
    }
   ],
   "source": [
    "processed['Var'].value_counts()"
   ]
  },
  {
   "cell_type": "markdown",
   "id": "structural-landscape",
   "metadata": {},
   "source": [
    "We can see a few values of `Var` mention wind - we can take a look at them"
   ]
  },
  {
   "cell_type": "code",
   "execution_count": 22,
   "id": "personalized-attack",
   "metadata": {},
   "outputs": [
    {
     "data": {
      "text/plain": [
       "['wind_ej', 'wind_twh', 'wind_twh_net']"
      ]
     },
     "execution_count": 22,
     "metadata": {},
     "output_type": "execute_result"
    }
   ],
   "source": [
    "[v for v in processed['Var'].unique() if 'wind' in v]"
   ]
  },
  {
   "cell_type": "markdown",
   "id": "lasting-productivity",
   "metadata": {},
   "source": [
    "To select all the rows with `wind` in the `Var`, we will use a lambda expression to create a boolean mask:"
   ]
  },
  {
   "cell_type": "code",
   "execution_count": 23,
   "id": "shared-executive",
   "metadata": {},
   "outputs": [
    {
     "data": {
      "text/html": [
       "<div>\n",
       "<style scoped>\n",
       "    .dataframe tbody tr th:only-of-type {\n",
       "        vertical-align: middle;\n",
       "    }\n",
       "\n",
       "    .dataframe tbody tr th {\n",
       "        vertical-align: top;\n",
       "    }\n",
       "\n",
       "    .dataframe thead th {\n",
       "        text-align: right;\n",
       "    }\n",
       "</style>\n",
       "<table border=\"1\" class=\"dataframe\">\n",
       "  <thead>\n",
       "    <tr style=\"text-align: right;\">\n",
       "      <th></th>\n",
       "      <th>Country</th>\n",
       "      <th>Year</th>\n",
       "      <th>ISO3166_alpha3</th>\n",
       "      <th>Var</th>\n",
       "      <th>Value</th>\n",
       "    </tr>\n",
       "  </thead>\n",
       "  <tbody>\n",
       "    <tr>\n",
       "      <th>264879</th>\n",
       "      <td>New Zealand</td>\n",
       "      <td>1974</td>\n",
       "      <td>NZL</td>\n",
       "      <td>wind_ej</td>\n",
       "      <td>0.0</td>\n",
       "    </tr>\n",
       "    <tr>\n",
       "      <th>264880</th>\n",
       "      <td>New Zealand</td>\n",
       "      <td>1975</td>\n",
       "      <td>NZL</td>\n",
       "      <td>wind_ej</td>\n",
       "      <td>0.0</td>\n",
       "    </tr>\n",
       "    <tr>\n",
       "      <th>264881</th>\n",
       "      <td>New Zealand</td>\n",
       "      <td>1976</td>\n",
       "      <td>NZL</td>\n",
       "      <td>wind_ej</td>\n",
       "      <td>0.0</td>\n",
       "    </tr>\n",
       "  </tbody>\n",
       "</table>\n",
       "</div>"
      ],
      "text/plain": [
       "            Country  Year ISO3166_alpha3      Var  Value\n",
       "264879  New Zealand  1974            NZL  wind_ej    0.0\n",
       "264880  New Zealand  1975            NZL  wind_ej    0.0\n",
       "264881  New Zealand  1976            NZL  wind_ej    0.0"
      ]
     },
     "execution_count": 23,
     "metadata": {},
     "output_type": "execute_result"
    }
   ],
   "source": [
    "mask = processed['Var'].apply(lambda x: 'wind' in x)\n",
    "processed.loc[mask, :].head(3)"
   ]
  },
  {
   "cell_type": "markdown",
   "id": "b38ce741",
   "metadata": {},
   "source": [
    "We can check that the only variables we have are wind related:"
   ]
  },
  {
   "cell_type": "code",
   "execution_count": 24,
   "id": "worst-valve",
   "metadata": {},
   "outputs": [
    {
     "data": {
      "text/plain": [
       "array(['wind_ej', 'wind_twh', 'wind_twh_net'], dtype=object)"
      ]
     },
     "execution_count": 24,
     "metadata": {},
     "output_type": "execute_result"
    }
   ],
   "source": [
    "processed.loc[mask, 'Var'].unique()"
   ]
  },
  {
   "cell_type": "markdown",
   "id": "c6f17117",
   "metadata": {},
   "source": [
    "Finally we can use our boolean mask to filter again (first time was for country as New Zealand, this time for)"
   ]
  },
  {
   "cell_type": "code",
   "execution_count": 25,
   "id": "expanded-blink",
   "metadata": {},
   "outputs": [
    {
     "data": {
      "text/html": [
       "<div>\n",
       "<style scoped>\n",
       "    .dataframe tbody tr th:only-of-type {\n",
       "        vertical-align: middle;\n",
       "    }\n",
       "\n",
       "    .dataframe tbody tr th {\n",
       "        vertical-align: top;\n",
       "    }\n",
       "\n",
       "    .dataframe thead th {\n",
       "        text-align: right;\n",
       "    }\n",
       "</style>\n",
       "<table border=\"1\" class=\"dataframe\">\n",
       "  <thead>\n",
       "    <tr style=\"text-align: right;\">\n",
       "      <th></th>\n",
       "      <th>Country</th>\n",
       "      <th>Year</th>\n",
       "      <th>ISO3166_alpha3</th>\n",
       "      <th>Var</th>\n",
       "      <th>Value</th>\n",
       "    </tr>\n",
       "  </thead>\n",
       "  <tbody>\n",
       "    <tr>\n",
       "      <th>264879</th>\n",
       "      <td>New Zealand</td>\n",
       "      <td>1974</td>\n",
       "      <td>NZL</td>\n",
       "      <td>wind_ej</td>\n",
       "      <td>0.0</td>\n",
       "    </tr>\n",
       "    <tr>\n",
       "      <th>264880</th>\n",
       "      <td>New Zealand</td>\n",
       "      <td>1975</td>\n",
       "      <td>NZL</td>\n",
       "      <td>wind_ej</td>\n",
       "      <td>0.0</td>\n",
       "    </tr>\n",
       "    <tr>\n",
       "      <th>264881</th>\n",
       "      <td>New Zealand</td>\n",
       "      <td>1976</td>\n",
       "      <td>NZL</td>\n",
       "      <td>wind_ej</td>\n",
       "      <td>0.0</td>\n",
       "    </tr>\n",
       "  </tbody>\n",
       "</table>\n",
       "</div>"
      ],
      "text/plain": [
       "            Country  Year ISO3166_alpha3      Var  Value\n",
       "264879  New Zealand  1974            NZL  wind_ej    0.0\n",
       "264880  New Zealand  1975            NZL  wind_ej    0.0\n",
       "264881  New Zealand  1976            NZL  wind_ej    0.0"
      ]
     },
     "execution_count": 25,
     "metadata": {},
     "output_type": "execute_result"
    }
   ],
   "source": [
    "wind = processed.loc[mask, :]\n",
    "wind.head(3)"
   ]
  },
  {
   "cell_type": "markdown",
   "id": "6227e8db",
   "metadata": {},
   "source": [
    "## Visualizing New Zealand Wind\n",
    "\n",
    "Let's finish our analysis with plots of the data for all of the variables than mention wind:"
   ]
  },
  {
   "cell_type": "code",
   "execution_count": 26,
   "id": "initial-booking",
   "metadata": {},
   "outputs": [
    {
     "data": {
      "image/png": "[encoded data removed]",
      "text/plain": [
       "<Figure size 1500x500 with 3 Axes>"
      ]
     },
     "metadata": {},
     "output_type": "display_data"
    }
   ],
   "source": [
    "vrs = wind['Var'].unique()\n",
    "f, axes = plt.subplots(ncols=3, sharex=True, figsize=(15, 5))\n",
    "\n",
    "for ax, var in zip(axes, vrs):\n",
    "    _ = wind.loc[wind['Var'] == var, :].plot(x='Year', y='Value', ax=ax, label=var)"
   ]
  }
 ],
 "metadata": {
  "jupytext": {
   "formats": "ipynb,md",
   "notebook_metadata_filter": "all"
  },
  "kernelspec": {
   "display_name": "Python 3 (ipykernel)",
   "language": "python",
   "name": "python3"
  },
  "language_info": {
   "codemirror_mode": {
    "name": "ipython",
    "version": 3
   },
   "file_extension": ".py",
   "mimetype": "text/x-python",
   "name": "python",
   "nbconvert_exporter": "python",
   "pygments_lexer": "ipython3",
   "version": "3.10.6"
  }
 },
 "nbformat": 4,
 "nbformat_minor": 5
}
