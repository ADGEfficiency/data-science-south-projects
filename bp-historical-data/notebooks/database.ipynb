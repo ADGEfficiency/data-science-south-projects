{
 "cells": [
  {
   "cell_type": "markdown",
   "id": "considered-batman",
   "metadata": {},
   "source": [
    "# Putting the BP Historical Dataset into a SQLite Database\n",
    "\n",
    "This notebook follows an exploration of the BP Historical dataset in [analyze-bp-historical-data/notebooks/explore.ipynb](https://github.com/ADGEfficiency/analyze-bp-historical-data/blob/main/notebooks/explore.ipynb).\n",
    "\n",
    "## Options for Interacting with SQLite\n",
    "\n",
    "There are a number of ways to interact with SQLite in Python:\n",
    "\n",
    "1. the `sqlite3` module from the Python standard library,\n",
    "2. through the `sqlalchemy` Python module (third party),\n",
    "3. through `pandas` and a little bit of `sqlalchemy`.\n",
    "\n",
    "We will use the third way with `pandas`.\n",
    "\n",
    "## Create SQLite Table with `pandas`\n",
    "\n",
    "First let's load our raw data into a `pd.DataFrame`:"
   ]
  },
  {
   "cell_type": "code",
   "execution_count": 1,
   "id": "hispanic-backup",
   "metadata": {},
   "outputs": [
    {
     "data": {
      "text/plain": [
       "(277095, 12)"
      ]
     },
     "execution_count": 1,
     "metadata": {},
     "output_type": "execute_result"
    }
   ],
   "source": [
    "import pandas as pd\n",
    "\n",
    "raw = pd.read_csv(\"https://raw.githubusercontent.com/ADGEfficiency/analyze-bp-historical-data/main/data/bp-stats-review-2022-consolidated-dataset-narrow-format.csv\")\n",
    "raw.shape"
   ]
  },
  {
   "cell_type": "markdown",
   "id": "parental-pepper",
   "metadata": {},
   "source": [
    "Now we have our data, we need to next create a connection to our database using `sqlalchemy.create_engine`:"
   ]
  },
  {
   "cell_type": "code",
   "execution_count": 2,
   "id": "formal-lotus",
   "metadata": {},
   "outputs": [],
   "source": [
    "from sqlalchemy import create_engine\n",
    "\n",
    "connection = create_engine('sqlite:///../data/db.sqlite', echo=True)"
   ]
  },
  {
   "cell_type": "markdown",
   "id": "0dbe905c",
   "metadata": {},
   "source": [
    "Finally, we can bring `pandas` and `sqlalchemy` together by using the connection in `pd.DataFrame.to_sql`:"
   ]
  },
  {
   "cell_type": "code",
   "execution_count": 3,
   "id": "07b8e2d4",
   "metadata": {},
   "outputs": [
    {
     "name": "stdout",
     "output_type": "stream",
     "text": [
      "2023-02-20 14:41:29,697 INFO sqlalchemy.engine.Engine PRAGMA main.table_info(\"raw\")\n",
      "2023-02-20 14:41:29,698 INFO sqlalchemy.engine.Engine [raw sql] ()\n",
      "2023-02-20 14:41:29,700 INFO sqlalchemy.engine.Engine PRAGMA main.table_info(\"raw\")\n",
      "2023-02-20 14:41:29,701 INFO sqlalchemy.engine.Engine [raw sql] ()\n",
      "2023-02-20 14:41:29,703 INFO sqlalchemy.engine.Engine SELECT name FROM sqlite_master WHERE type='table' ORDER BY name\n",
      "2023-02-20 14:41:29,704 INFO sqlalchemy.engine.Engine [raw sql] ()\n",
      "2023-02-20 14:41:29,705 INFO sqlalchemy.engine.Engine PRAGMA main.table_xinfo(\"raw\")\n",
      "2023-02-20 14:41:29,706 INFO sqlalchemy.engine.Engine [raw sql] ()\n",
      "2023-02-20 14:41:29,707 INFO sqlalchemy.engine.Engine SELECT sql FROM  (SELECT * FROM sqlite_master UNION ALL   SELECT * FROM sqlite_temp_master) WHERE name = ? AND type = 'table'\n",
      "2023-02-20 14:41:29,708 INFO sqlalchemy.engine.Engine [raw sql] ('raw',)\n",
      "2023-02-20 14:41:29,710 INFO sqlalchemy.engine.Engine PRAGMA main.foreign_key_list(\"raw\")\n",
      "2023-02-20 14:41:29,711 INFO sqlalchemy.engine.Engine [raw sql] ()\n",
      "2023-02-20 14:41:29,712 INFO sqlalchemy.engine.Engine PRAGMA temp.foreign_key_list(\"raw\")\n",
      "2023-02-20 14:41:29,713 INFO sqlalchemy.engine.Engine [raw sql] ()\n",
      "2023-02-20 14:41:29,714 INFO sqlalchemy.engine.Engine SELECT sql FROM  (SELECT * FROM sqlite_master UNION ALL   SELECT * FROM sqlite_temp_master) WHERE name = ? AND type = 'table'\n",
      "2023-02-20 14:41:29,716 INFO sqlalchemy.engine.Engine [raw sql] ('raw',)\n",
      "2023-02-20 14:41:29,718 INFO sqlalchemy.engine.Engine PRAGMA main.index_list(\"raw\")\n",
      "2023-02-20 14:41:29,719 INFO sqlalchemy.engine.Engine [raw sql] ()\n",
      "2023-02-20 14:41:29,720 INFO sqlalchemy.engine.Engine PRAGMA main.index_info(\"ix_raw_index\")\n",
      "2023-02-20 14:41:29,721 INFO sqlalchemy.engine.Engine [raw sql] ()\n",
      "2023-02-20 14:41:29,722 INFO sqlalchemy.engine.Engine PRAGMA main.index_list(\"raw\")\n",
      "2023-02-20 14:41:29,722 INFO sqlalchemy.engine.Engine [raw sql] ()\n",
      "2023-02-20 14:41:29,724 INFO sqlalchemy.engine.Engine PRAGMA main.index_info(\"ix_raw_index\")\n",
      "2023-02-20 14:41:29,724 INFO sqlalchemy.engine.Engine [raw sql] ()\n",
      "2023-02-20 14:41:29,726 INFO sqlalchemy.engine.Engine SELECT sql FROM  (SELECT * FROM sqlite_master UNION ALL   SELECT * FROM sqlite_temp_master) WHERE name = ? AND type = 'table'\n",
      "2023-02-20 14:41:29,727 INFO sqlalchemy.engine.Engine [raw sql] ('raw',)\n",
      "2023-02-20 14:41:29,731 INFO sqlalchemy.engine.Engine BEGIN (implicit)\n",
      "2023-02-20 14:41:29,732 INFO sqlalchemy.engine.Engine \n",
      "DROP TABLE raw\n",
      "2023-02-20 14:41:29,733 INFO sqlalchemy.engine.Engine [no key 0.00066s] ()\n",
      "2023-02-20 14:41:29,749 INFO sqlalchemy.engine.Engine COMMIT\n",
      "2023-02-20 14:41:29,752 INFO sqlalchemy.engine.Engine BEGIN (implicit)\n",
      "2023-02-20 14:41:29,754 INFO sqlalchemy.engine.Engine \n",
      "CREATE TABLE raw (\n",
      "\t\"index\" BIGINT, \n",
      "\t\"Country\" TEXT, \n",
      "\t\"Year\" BIGINT, \n",
      "\t\"ISO3166_alpha3\" TEXT, \n",
      "\t\"ISO3166_numeric\" FLOAT, \n",
      "\t\"Region\" TEXT, \n",
      "\t\"SubRegion\" TEXT, \n",
      "\t\"OPEC\" FLOAT, \n",
      "\t\"EU\" FLOAT, \n",
      "\t\"OECD\" FLOAT, \n",
      "\t\"CIS\" FLOAT, \n",
      "\t\"Var\" TEXT, \n",
      "\t\"Value\" FLOAT\n",
      ")\n",
      "\n",
      "\n",
      "2023-02-20 14:41:29,755 INFO sqlalchemy.engine.Engine [no key 0.00183s] ()\n",
      "2023-02-20 14:41:29,757 INFO sqlalchemy.engine.Engine CREATE INDEX ix_raw_index ON raw (\"index\")\n",
      "2023-02-20 14:41:29,759 INFO sqlalchemy.engine.Engine [no key 0.00108s] ()\n",
      "2023-02-20 14:41:29,760 INFO sqlalchemy.engine.Engine COMMIT\n",
      "2023-02-20 14:41:29,911 INFO sqlalchemy.engine.Engine BEGIN (implicit)\n",
      "2023-02-20 14:41:32,105 INFO sqlalchemy.engine.Engine INSERT INTO raw (\"index\", \"Country\", \"Year\", \"ISO3166_alpha3\", \"ISO3166_numeric\", \"Region\", \"SubRegion\", \"OPEC\", \"EU\", \"OECD\", \"CIS\", \"Var\", \"Value\") VALUES (?, ?, ?, ?, ?, ?, ?, ?, ?, ?, ?, ?, ?)\n",
      "2023-02-20 14:41:32,106 INFO sqlalchemy.engine.Engine [generated in 1.82314s] ((0, 'Brazil', 2004, 'BRA', 76.0, 'S. & Cent. America', 'South America', 0.0, 0.0, 0.0, 0.0, 'biodiesel_cons_kboed', 0.0), (1, 'Brazil', 2005, 'BRA', 76.0, 'S. & Cent. America', 'South America', 0.0, 0.0, 0.0, 0.0, 'biodiesel_cons_kboed', 0.014737492), (2, 'Brazil', 2006, 'BRA', 76.0, 'S. & Cent. America', 'South America', 0.0, 0.0, 0.0, 0.0, 'biodiesel_cons_kboed', 1.016886941), (3, 'Brazil', 2007, 'BRA', 76.0, 'S. & Cent. America', 'South America', 0.0, 0.0, 0.0, 0.0, 'biodiesel_cons_kboed', 5.953946726), (4, 'Brazil', 2008, 'BRA', 76.0, 'S. & Cent. America', 'South America', 0.0, 0.0, 0.0, 0.0, 'biodiesel_cons_kboed', 16.53437872), (5, 'Brazil', 2009, 'BRA', 76.0, 'S. & Cent. America', 'South America', 0.0, 0.0, 0.0, 0.0, 'biodiesel_cons_kboed', 23.06417482), (6, 'Brazil', 2010, 'BRA', 76.0, 'S. & Cent. America', 'South America', 0.0, 0.0, 0.0, 0.0, 'biodiesel_cons_kboed', 35.32576808), (7, 'Brazil', 2011, 'BRA', 76.0, 'S. & Cent. America', 'South America', 0.0, 0.0, 0.0, 0.0, 'biodiesel_cons_kboed', 37.89303916)  ... displaying 10 of 277095 total bound parameter sets ...  (277093, 'Vietnam', 2020, 'VNM', 704.0, 'Asia Pacific', 'Asia Pacific', 0.0, 0.0, 0.0, 0.0, 'wind_twh_net', 1.0630521), (277094, 'Vietnam', 2021, 'VNM', 704.0, 'Asia Pacific', 'Asia Pacific', 0.0, 0.0, 0.0, 0.0, 'wind_twh_net', 2.367696883))\n",
      "2023-02-20 14:41:32,931 INFO sqlalchemy.engine.Engine COMMIT\n"
     ]
    },
    {
     "data": {
      "text/plain": [
       "277095"
      ]
     },
     "execution_count": 3,
     "metadata": {},
     "output_type": "execute_result"
    }
   ],
   "source": [
    "raw.to_sql('raw', if_exists='replace', con=connection)"
   ]
  },
  {
   "cell_type": "markdown",
   "id": "a13dcf3f",
   "metadata": {},
   "source": [
    "We use `if_exists='replace'` to completely replace the table each time we run `.to_sql`.\n",
    "\n",
    "And that's it!  Pretty simple if you know the simple ways ^^"
   ]
  },
  {
   "cell_type": "markdown",
   "id": "705103a3",
   "metadata": {},
   "source": [
    "## Read Entire SQLite Table into `pandas`\n",
    "\n",
    "Now we have a SQLite database - it's a file in the `data` folder:"
   ]
  },
  {
   "cell_type": "code",
   "execution_count": 4,
   "id": "bd15d69a",
   "metadata": {},
   "outputs": [
    {
     "name": "stdout",
     "output_type": "stream",
     "text": [
      "ls: ./data: No such file or directory\n"
     ]
    }
   ],
   "source": [
    "!ls ./data"
   ]
  },
  {
   "cell_type": "markdown",
   "id": "f07e0667",
   "metadata": {},
   "source": [
    "We can read data from the database back into `pandas` by using `pd.read_sql`:"
   ]
  },
  {
   "cell_type": "code",
   "execution_count": 5,
   "id": "7c021283",
   "metadata": {},
   "outputs": [
    {
     "name": "stdout",
     "output_type": "stream",
     "text": [
      "2023-02-20 14:41:33,161 INFO sqlalchemy.engine.Engine PRAGMA main.table_info(\"SELECT * FROM raw\")\n",
      "2023-02-20 14:41:33,162 INFO sqlalchemy.engine.Engine [raw sql] ()\n",
      "2023-02-20 14:41:33,162 INFO sqlalchemy.engine.Engine PRAGMA temp.table_info(\"SELECT * FROM raw\")\n",
      "2023-02-20 14:41:33,163 INFO sqlalchemy.engine.Engine [raw sql] ()\n",
      "2023-02-20 14:41:33,164 INFO sqlalchemy.engine.Engine SELECT * FROM raw\n",
      "2023-02-20 14:41:33,165 INFO sqlalchemy.engine.Engine [raw sql] ()\n",
      "(277095, 13)\n"
     ]
    },
    {
     "data": {
      "text/html": [
       "<div>\n",
       "<style scoped>\n",
       "    .dataframe tbody tr th:only-of-type {\n",
       "        vertical-align: middle;\n",
       "    }\n",
       "\n",
       "    .dataframe tbody tr th {\n",
       "        vertical-align: top;\n",
       "    }\n",
       "\n",
       "    .dataframe thead th {\n",
       "        text-align: right;\n",
       "    }\n",
       "</style>\n",
       "<table border=\"1\" class=\"dataframe\">\n",
       "  <thead>\n",
       "    <tr style=\"text-align: right;\">\n",
       "      <th></th>\n",
       "      <th>index</th>\n",
       "      <th>Country</th>\n",
       "      <th>Year</th>\n",
       "      <th>ISO3166_alpha3</th>\n",
       "      <th>ISO3166_numeric</th>\n",
       "      <th>Region</th>\n",
       "      <th>SubRegion</th>\n",
       "      <th>OPEC</th>\n",
       "      <th>EU</th>\n",
       "      <th>OECD</th>\n",
       "      <th>CIS</th>\n",
       "      <th>Var</th>\n",
       "      <th>Value</th>\n",
       "    </tr>\n",
       "  </thead>\n",
       "  <tbody>\n",
       "    <tr>\n",
       "      <th>0</th>\n",
       "      <td>0</td>\n",
       "      <td>Brazil</td>\n",
       "      <td>2004</td>\n",
       "      <td>BRA</td>\n",
       "      <td>76.0</td>\n",
       "      <td>S. &amp; Cent. America</td>\n",
       "      <td>South America</td>\n",
       "      <td>0.0</td>\n",
       "      <td>0.0</td>\n",
       "      <td>0.0</td>\n",
       "      <td>0.0</td>\n",
       "      <td>biodiesel_cons_kboed</td>\n",
       "      <td>0.000000</td>\n",
       "    </tr>\n",
       "    <tr>\n",
       "      <th>1</th>\n",
       "      <td>1</td>\n",
       "      <td>Brazil</td>\n",
       "      <td>2005</td>\n",
       "      <td>BRA</td>\n",
       "      <td>76.0</td>\n",
       "      <td>S. &amp; Cent. America</td>\n",
       "      <td>South America</td>\n",
       "      <td>0.0</td>\n",
       "      <td>0.0</td>\n",
       "      <td>0.0</td>\n",
       "      <td>0.0</td>\n",
       "      <td>biodiesel_cons_kboed</td>\n",
       "      <td>0.014737</td>\n",
       "    </tr>\n",
       "    <tr>\n",
       "      <th>2</th>\n",
       "      <td>2</td>\n",
       "      <td>Brazil</td>\n",
       "      <td>2006</td>\n",
       "      <td>BRA</td>\n",
       "      <td>76.0</td>\n",
       "      <td>S. &amp; Cent. America</td>\n",
       "      <td>South America</td>\n",
       "      <td>0.0</td>\n",
       "      <td>0.0</td>\n",
       "      <td>0.0</td>\n",
       "      <td>0.0</td>\n",
       "      <td>biodiesel_cons_kboed</td>\n",
       "      <td>1.016887</td>\n",
       "    </tr>\n",
       "  </tbody>\n",
       "</table>\n",
       "</div>"
      ],
      "text/plain": [
       "   index Country  Year ISO3166_alpha3  ISO3166_numeric              Region      SubRegion  OPEC   EU  OECD  CIS                   Var     Value\n",
       "0      0  Brazil  2004            BRA             76.0  S. & Cent. America  South America   0.0  0.0   0.0  0.0  biodiesel_cons_kboed  0.000000\n",
       "1      1  Brazil  2005            BRA             76.0  S. & Cent. America  South America   0.0  0.0   0.0  0.0  biodiesel_cons_kboed  0.014737\n",
       "2      2  Brazil  2006            BRA             76.0  S. & Cent. America  South America   0.0  0.0   0.0  0.0  biodiesel_cons_kboed  1.016887"
      ]
     },
     "execution_count": 5,
     "metadata": {},
     "output_type": "execute_result"
    }
   ],
   "source": [
    "out = pd.read_sql(\"SELECT * FROM raw\", con=connection)\n",
    "print(out.shape)\n",
    "out.head(3)"
   ]
  },
  {
   "cell_type": "markdown",
   "id": "1246e42b",
   "metadata": {},
   "source": [
    "We use a SQL statement `SELECT * FROM raw`.  This statement selects the entire `raw` table.\n",
    "\n",
    "## Filter SQLite Table\n",
    "\n",
    "We can also do analytics on the database directly.\n",
    "\n",
    "Previously in [analyze-bp-historical-data/notebooks/explore.ipynb](https://github.com/ADGEfficiency/analyze-bp-historical-data/blob/main/notebooks/explore.ipynb) we manipulated data using pandas.\n",
    "\n",
    "It's also possible to do analytics with the database.  When your database is a remote server (say Postgres), pushing computation back into the database can reduce the load on your local machine.  \n",
    "\n",
    "Below we use a `SELECT` statement with a `WHERE` clause to get only wind data from New Zealand:"
   ]
  },
  {
   "cell_type": "code",
   "execution_count": 6,
   "id": "afraid-bidding",
   "metadata": {},
   "outputs": [
    {
     "name": "stdout",
     "output_type": "stream",
     "text": [
      "2023-02-20 14:41:34,659 INFO sqlalchemy.engine.Engine PRAGMA main.table_info(\"SELECT * FROM raw WHERE Country = 'New Zealand' AND Var like '%wind%'\")\n",
      "2023-02-20 14:41:34,660 INFO sqlalchemy.engine.Engine [raw sql] ()\n",
      "2023-02-20 14:41:34,661 INFO sqlalchemy.engine.Engine PRAGMA temp.table_info(\"SELECT * FROM raw WHERE Country = 'New Zealand' AND Var like '%wind%'\")\n",
      "2023-02-20 14:41:34,662 INFO sqlalchemy.engine.Engine [raw sql] ()\n",
      "2023-02-20 14:41:34,665 INFO sqlalchemy.engine.Engine SELECT * FROM raw WHERE Country = 'New Zealand' AND Var like '%wind%'\n",
      "2023-02-20 14:41:34,665 INFO sqlalchemy.engine.Engine [raw sql] ()\n"
     ]
    },
    {
     "data": {
      "text/html": [
       "<div>\n",
       "<style scoped>\n",
       "    .dataframe tbody tr th:only-of-type {\n",
       "        vertical-align: middle;\n",
       "    }\n",
       "\n",
       "    .dataframe tbody tr th {\n",
       "        vertical-align: top;\n",
       "    }\n",
       "\n",
       "    .dataframe thead th {\n",
       "        text-align: right;\n",
       "    }\n",
       "</style>\n",
       "<table border=\"1\" class=\"dataframe\">\n",
       "  <thead>\n",
       "    <tr style=\"text-align: right;\">\n",
       "      <th></th>\n",
       "      <th>index</th>\n",
       "      <th>Country</th>\n",
       "      <th>Year</th>\n",
       "      <th>ISO3166_alpha3</th>\n",
       "      <th>ISO3166_numeric</th>\n",
       "      <th>Region</th>\n",
       "      <th>SubRegion</th>\n",
       "      <th>OPEC</th>\n",
       "      <th>EU</th>\n",
       "      <th>OECD</th>\n",
       "      <th>CIS</th>\n",
       "      <th>Var</th>\n",
       "      <th>Value</th>\n",
       "    </tr>\n",
       "  </thead>\n",
       "  <tbody>\n",
       "    <tr>\n",
       "      <th>0</th>\n",
       "      <td>264879</td>\n",
       "      <td>New Zealand</td>\n",
       "      <td>1974</td>\n",
       "      <td>NZL</td>\n",
       "      <td>554.0</td>\n",
       "      <td>Asia Pacific</td>\n",
       "      <td>Asia Pacific</td>\n",
       "      <td>0.0</td>\n",
       "      <td>0.0</td>\n",
       "      <td>1.0</td>\n",
       "      <td>0.0</td>\n",
       "      <td>wind_ej</td>\n",
       "      <td>0.0</td>\n",
       "    </tr>\n",
       "    <tr>\n",
       "      <th>1</th>\n",
       "      <td>264880</td>\n",
       "      <td>New Zealand</td>\n",
       "      <td>1975</td>\n",
       "      <td>NZL</td>\n",
       "      <td>554.0</td>\n",
       "      <td>Asia Pacific</td>\n",
       "      <td>Asia Pacific</td>\n",
       "      <td>0.0</td>\n",
       "      <td>0.0</td>\n",
       "      <td>1.0</td>\n",
       "      <td>0.0</td>\n",
       "      <td>wind_ej</td>\n",
       "      <td>0.0</td>\n",
       "    </tr>\n",
       "    <tr>\n",
       "      <th>2</th>\n",
       "      <td>264881</td>\n",
       "      <td>New Zealand</td>\n",
       "      <td>1976</td>\n",
       "      <td>NZL</td>\n",
       "      <td>554.0</td>\n",
       "      <td>Asia Pacific</td>\n",
       "      <td>Asia Pacific</td>\n",
       "      <td>0.0</td>\n",
       "      <td>0.0</td>\n",
       "      <td>1.0</td>\n",
       "      <td>0.0</td>\n",
       "      <td>wind_ej</td>\n",
       "      <td>0.0</td>\n",
       "    </tr>\n",
       "  </tbody>\n",
       "</table>\n",
       "</div>"
      ],
      "text/plain": [
       "    index      Country  Year ISO3166_alpha3  ISO3166_numeric        Region     SubRegion  OPEC   EU  OECD  CIS      Var  Value\n",
       "0  264879  New Zealand  1974            NZL            554.0  Asia Pacific  Asia Pacific   0.0  0.0   1.0  0.0  wind_ej    0.0\n",
       "1  264880  New Zealand  1975            NZL            554.0  Asia Pacific  Asia Pacific   0.0  0.0   1.0  0.0  wind_ej    0.0\n",
       "2  264881  New Zealand  1976            NZL            554.0  Asia Pacific  Asia Pacific   0.0  0.0   1.0  0.0  wind_ej    0.0"
      ]
     },
     "execution_count": 6,
     "metadata": {},
     "output_type": "execute_result"
    }
   ],
   "source": [
    "out = pd.read_sql(\"SELECT * FROM raw WHERE Country = 'New Zealand' AND Var like '%wind%'\", con=connection)\n",
    "out.head(3)"
   ]
  },
  {
   "cell_type": "markdown",
   "id": "4fe6d258",
   "metadata": {},
   "source": [
    "Compare how short and sweet this is - SQL at it's best.\n",
    "\n",
    "## Summary\n",
    "\n",
    "Key takeaways:\n",
    "\n",
    "- we can interact with SQLite from Python in a few ways,\n",
    "- `pd.to_sql` is a simple way to create a `SQLite` table from a CSV,\n",
    "- we can select all data using a `SELECT *` SQL query,\n",
    "- we can filter data using a `SELECT * WHERE` SQL query."
   ]
  }
 ],
 "metadata": {
  "jupytext": {
   "formats": "ipynb,md"
  },
  "kernelspec": {
   "display_name": "Python 3 (ipykernel)",
   "language": "python",
   "name": "python3"
  },
  "language_info": {
   "codemirror_mode": {
    "name": "ipython",
    "version": 3
   },
   "file_extension": ".py",
   "mimetype": "text/x-python",
   "name": "python",
   "nbconvert_exporter": "python",
   "pygments_lexer": "ipython3",
   "version": "3.10.6"
  }
 },
 "nbformat": 4,
 "nbformat_minor": 5
}
